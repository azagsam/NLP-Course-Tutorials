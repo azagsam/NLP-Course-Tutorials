{
  "cells": [
    {
      "cell_type": "markdown",
      "metadata": {
        "id": "pYagNo7w0KR6",
        "pycharm": {
          "name": "#%% md\n"
        }
      },
      "source": [
        "# Google Colab - Multiple neural network analysis\n",
        "\n",
        "<sup>This notebook is a part of Natural Language Processing class at the University of Ljubljana, Faculty for computer and information science. Please contact [slavko.zitnik@fri.uni-lj.si](mailto:slavko.zitnik@fri.uni-lj.si) for any comments.</sub>\n",
        "\n",
        "## Google Colab specifics\n",
        "\n",
        "Before running this notebook you should select GPU-accelerated environment.\n",
        "\n",
        "### Libraries installation\n",
        "\n",
        "Some of the libraries are already available but you should manually install them:"
      ]
    },
    {
      "cell_type": "code",
      "execution_count": 1,
      "metadata": {
        "colab": {
          "base_uri": "https://localhost:8080/"
        },
        "id": "G96VrF880KR9",
        "outputId": "460f9e96-c1a1-4080-db68-37ee1c294984",
        "pycharm": {
          "name": "#%%\n"
        }
      },
      "outputs": [
        {
          "output_type": "stream",
          "name": "stdout",
          "text": [
            "Requirement already satisfied: tensorflow==2.16.1 in /usr/local/lib/python3.10/dist-packages (2.16.1)\n",
            "Requirement already satisfied: keras==3.0.5 in /usr/local/lib/python3.10/dist-packages (3.0.5)\n",
            "Requirement already satisfied: pandas==2.2.1 in /usr/local/lib/python3.10/dist-packages (2.2.1)\n",
            "Requirement already satisfied: absl-py>=1.0.0 in /usr/local/lib/python3.10/dist-packages (from tensorflow==2.16.1) (1.4.0)\n",
            "Requirement already satisfied: astunparse>=1.6.0 in /usr/local/lib/python3.10/dist-packages (from tensorflow==2.16.1) (1.6.3)\n",
            "Requirement already satisfied: flatbuffers>=23.5.26 in /usr/local/lib/python3.10/dist-packages (from tensorflow==2.16.1) (23.5.26)\n",
            "Requirement already satisfied: gast!=0.5.0,!=0.5.1,!=0.5.2,>=0.2.1 in /usr/local/lib/python3.10/dist-packages (from tensorflow==2.16.1) (0.5.4)\n",
            "Requirement already satisfied: google-pasta>=0.1.1 in /usr/local/lib/python3.10/dist-packages (from tensorflow==2.16.1) (0.2.0)\n",
            "Requirement already satisfied: h5py>=3.10.0 in /usr/local/lib/python3.10/dist-packages (from tensorflow==2.16.1) (3.10.0)\n",
            "Requirement already satisfied: libclang>=13.0.0 in /usr/local/lib/python3.10/dist-packages (from tensorflow==2.16.1) (16.0.6)\n",
            "Requirement already satisfied: ml-dtypes~=0.3.1 in /usr/local/lib/python3.10/dist-packages (from tensorflow==2.16.1) (0.3.2)\n",
            "Requirement already satisfied: opt-einsum>=2.3.2 in /usr/local/lib/python3.10/dist-packages (from tensorflow==2.16.1) (3.3.0)\n",
            "Requirement already satisfied: packaging in /usr/local/lib/python3.10/dist-packages (from tensorflow==2.16.1) (23.2)\n",
            "Requirement already satisfied: protobuf!=4.21.0,!=4.21.1,!=4.21.2,!=4.21.3,!=4.21.4,!=4.21.5,<5.0.0dev,>=3.20.3 in /usr/local/lib/python3.10/dist-packages (from tensorflow==2.16.1) (3.20.3)\n",
            "Requirement already satisfied: requests<3,>=2.21.0 in /usr/local/lib/python3.10/dist-packages (from tensorflow==2.16.1) (2.31.0)\n",
            "Requirement already satisfied: setuptools in /usr/local/lib/python3.10/dist-packages (from tensorflow==2.16.1) (67.7.2)\n",
            "Requirement already satisfied: six>=1.12.0 in /usr/local/lib/python3.10/dist-packages (from tensorflow==2.16.1) (1.16.0)\n",
            "Requirement already satisfied: termcolor>=1.1.0 in /usr/local/lib/python3.10/dist-packages (from tensorflow==2.16.1) (2.4.0)\n",
            "Requirement already satisfied: typing-extensions>=3.6.6 in /usr/local/lib/python3.10/dist-packages (from tensorflow==2.16.1) (4.10.0)\n",
            "Requirement already satisfied: wrapt>=1.11.0 in /usr/local/lib/python3.10/dist-packages (from tensorflow==2.16.1) (1.14.1)\n",
            "Requirement already satisfied: grpcio<2.0,>=1.24.3 in /usr/local/lib/python3.10/dist-packages (from tensorflow==2.16.1) (1.62.0)\n",
            "Requirement already satisfied: tensorboard<2.17,>=2.16 in /usr/local/lib/python3.10/dist-packages (from tensorflow==2.16.1) (2.16.2)\n",
            "Requirement already satisfied: tensorflow-io-gcs-filesystem>=0.23.1 in /usr/local/lib/python3.10/dist-packages (from tensorflow==2.16.1) (0.36.0)\n",
            "Requirement already satisfied: numpy<2.0.0,>=1.23.5 in /usr/local/lib/python3.10/dist-packages (from tensorflow==2.16.1) (1.25.2)\n",
            "Requirement already satisfied: rich in /usr/local/lib/python3.10/dist-packages (from keras==3.0.5) (13.7.1)\n",
            "Requirement already satisfied: namex in /usr/local/lib/python3.10/dist-packages (from keras==3.0.5) (0.0.7)\n",
            "Requirement already satisfied: dm-tree in /usr/local/lib/python3.10/dist-packages (from keras==3.0.5) (0.1.8)\n",
            "Requirement already satisfied: python-dateutil>=2.8.2 in /usr/local/lib/python3.10/dist-packages (from pandas==2.2.1) (2.8.2)\n",
            "Requirement already satisfied: pytz>=2020.1 in /usr/local/lib/python3.10/dist-packages (from pandas==2.2.1) (2023.4)\n",
            "Requirement already satisfied: tzdata>=2022.7 in /usr/local/lib/python3.10/dist-packages (from pandas==2.2.1) (2024.1)\n",
            "Requirement already satisfied: wheel<1.0,>=0.23.0 in /usr/local/lib/python3.10/dist-packages (from astunparse>=1.6.0->tensorflow==2.16.1) (0.42.0)\n",
            "Requirement already satisfied: charset-normalizer<4,>=2 in /usr/local/lib/python3.10/dist-packages (from requests<3,>=2.21.0->tensorflow==2.16.1) (3.3.2)\n",
            "Requirement already satisfied: idna<4,>=2.5 in /usr/local/lib/python3.10/dist-packages (from requests<3,>=2.21.0->tensorflow==2.16.1) (3.6)\n",
            "Requirement already satisfied: urllib3<3,>=1.21.1 in /usr/local/lib/python3.10/dist-packages (from requests<3,>=2.21.0->tensorflow==2.16.1) (2.0.7)\n",
            "Requirement already satisfied: certifi>=2017.4.17 in /usr/local/lib/python3.10/dist-packages (from requests<3,>=2.21.0->tensorflow==2.16.1) (2024.2.2)\n",
            "Requirement already satisfied: markdown>=2.6.8 in /usr/local/lib/python3.10/dist-packages (from tensorboard<2.17,>=2.16->tensorflow==2.16.1) (3.5.2)\n",
            "Requirement already satisfied: tensorboard-data-server<0.8.0,>=0.7.0 in /usr/local/lib/python3.10/dist-packages (from tensorboard<2.17,>=2.16->tensorflow==2.16.1) (0.7.2)\n",
            "Requirement already satisfied: werkzeug>=1.0.1 in /usr/local/lib/python3.10/dist-packages (from tensorboard<2.17,>=2.16->tensorflow==2.16.1) (3.0.1)\n",
            "Requirement already satisfied: markdown-it-py>=2.2.0 in /usr/local/lib/python3.10/dist-packages (from rich->keras==3.0.5) (3.0.0)\n",
            "Requirement already satisfied: pygments<3.0.0,>=2.13.0 in /usr/local/lib/python3.10/dist-packages (from rich->keras==3.0.5) (2.16.1)\n",
            "Requirement already satisfied: mdurl~=0.1 in /usr/local/lib/python3.10/dist-packages (from markdown-it-py>=2.2.0->rich->keras==3.0.5) (0.1.2)\n",
            "Requirement already satisfied: MarkupSafe>=2.1.1 in /usr/local/lib/python3.10/dist-packages (from werkzeug>=1.0.1->tensorboard<2.17,>=2.16->tensorflow==2.16.1) (2.1.5)\n"
          ]
        }
      ],
      "source": [
        "!pip install tensorflow==2.16.1 keras==3.0.5 pandas==2.2.1"
      ]
    },
    {
      "cell_type": "markdown",
      "metadata": {
        "id": "4JdpSdBG0KR-",
        "pycharm": {
          "name": "#%% md\n"
        }
      },
      "source": [
        "### I/O device registering\n",
        "\n",
        "Current working directory is set to `/content` by default. You can also give access to your Google Drive to save models/results/... there."
      ]
    },
    {
      "cell_type": "code",
      "execution_count": 2,
      "metadata": {
        "id": "xHL6AMfe0KR_",
        "pycharm": {
          "name": "#%%\n"
        }
      },
      "outputs": [],
      "source": [
        "# Uncomment to use\n",
        "#from google.colab import drive\n",
        "#drive.mount(\"/content/drive/\")\n",
        "\n",
        "# Access your Drive data using folder '/content/drive/MyDrive'"
      ]
    },
    {
      "cell_type": "markdown",
      "metadata": {
        "id": "f8BWktGo0KR_",
        "pycharm": {
          "name": "#%% md\n"
        }
      },
      "source": [
        "### GPU device selection review\n",
        "\n",
        "You can directly use system command `nvidia-smi` or use Python library (e.g. Tensorflow or PyTorch) to check this."
      ]
    },
    {
      "cell_type": "code",
      "execution_count": 3,
      "metadata": {
        "colab": {
          "base_uri": "https://localhost:8080/"
        },
        "id": "NFU6m1E90KR_",
        "outputId": "af218580-3471-42af-91a6-50b57af8aaa1",
        "pycharm": {
          "name": "#%%\n"
        }
      },
      "outputs": [
        {
          "output_type": "stream",
          "name": "stdout",
          "text": [
            "Sun Mar 10 16:50:05 2024       \n",
            "+---------------------------------------------------------------------------------------+\n",
            "| NVIDIA-SMI 535.104.05             Driver Version: 535.104.05   CUDA Version: 12.2     |\n",
            "|-----------------------------------------+----------------------+----------------------+\n",
            "| GPU  Name                 Persistence-M | Bus-Id        Disp.A | Volatile Uncorr. ECC |\n",
            "| Fan  Temp   Perf          Pwr:Usage/Cap |         Memory-Usage | GPU-Util  Compute M. |\n",
            "|                                         |                      |               MIG M. |\n",
            "|=========================================+======================+======================|\n",
            "|   0  Tesla T4                       Off | 00000000:00:04.0 Off |                    0 |\n",
            "| N/A   46C    P8               9W /  70W |      0MiB / 15360MiB |      0%      Default |\n",
            "|                                         |                      |                  N/A |\n",
            "+-----------------------------------------+----------------------+----------------------+\n",
            "                                                                                         \n",
            "+---------------------------------------------------------------------------------------+\n",
            "| Processes:                                                                            |\n",
            "|  GPU   GI   CI        PID   Type   Process name                            GPU Memory |\n",
            "|        ID   ID                                                             Usage      |\n",
            "|=======================================================================================|\n",
            "|  No running processes found                                                           |\n",
            "+---------------------------------------------------------------------------------------+\n"
          ]
        }
      ],
      "source": [
        "!nvidia-smi"
      ]
    },
    {
      "cell_type": "code",
      "execution_count": 4,
      "metadata": {
        "colab": {
          "base_uri": "https://localhost:8080/"
        },
        "id": "WLxMk7GN0KR_",
        "outputId": "31943973-6166-43a4-ebaa-577b30518c0b",
        "pycharm": {
          "name": "#%%\n"
        }
      },
      "outputs": [
        {
          "output_type": "stream",
          "name": "stdout",
          "text": [
            "Tensorflow version: 2.16.1\n",
            "The system contains '1' Physical GPUs and '1' Logical GPUs\n"
          ]
        }
      ],
      "source": [
        "import tensorflow as tf\n",
        "import os\n",
        "print(f\"Tensorflow version: {tf.__version__}\")\n",
        "\n",
        "# Restrict TensorFlow to only allocate 4GBs of memory on the first GPU\n",
        "gpus = tf.config.experimental.list_physical_devices('GPU')\n",
        "if gpus:\n",
        "  try:\n",
        "    tf.config.experimental.set_virtual_device_configuration(\n",
        "        gpus[0],\n",
        "        [tf.config.experimental.VirtualDeviceConfiguration(memory_limit=4096)])\n",
        "    logical_gpus = tf.config.experimental.list_logical_devices('GPU')\n",
        "    print(f\"The system contains '{len(gpus)}' Physical GPUs and '{len(logical_gpus)}' Logical GPUs\")\n",
        "  except RuntimeError as e:\n",
        "    print(e)\n",
        "else:\n",
        "    print(f\"Your system does not contain a GPU that could be used by Tensorflow!\")"
      ]
    },
    {
      "cell_type": "markdown",
      "metadata": {
        "id": "OTQJ_nf70KSA",
        "pycharm": {
          "name": "#%% md\n"
        }
      },
      "source": [
        "## IMDB sentiment analysis example\n",
        "\n",
        "First we download the IMDB dataset. We present each word with a specific index from a vocabulary of 10000 words."
      ]
    },
    {
      "cell_type": "code",
      "execution_count": 5,
      "metadata": {
        "colab": {
          "base_uri": "https://localhost:8080/"
        },
        "id": "CnuPvw080KSA",
        "outputId": "7cb500d1-413a-43d4-fbec-77232d416f91",
        "pycharm": {
          "name": "#%%\n"
        }
      },
      "outputs": [
        {
          "output_type": "stream",
          "name": "stdout",
          "text": [
            "Number of reviews: 25000.\n",
            "First review: \n",
            "\t[1, 14, 22, 16, 43, 530, 973, 1622, 1385, 65, 458, 4468, 66, 3941, 4, 173, 36, 256, 5, 25, 100, 43, 838, 112, 50, 670, 2, 9, 35, 480, 284, 5, 150, 4, 172, 112, 167, 2, 336, 385, 39, 4, 172, 4536, 1111, 17, 546, 38, 13, 447, 4, 192, 50, 16, 6, 147, 2025, 19, 14, 22, 4, 1920, 4613, 469, 4, 22, 71, 87, 12, 16, 43, 530, 38, 76, 15, 13, 1247, 4, 22, 17, 515, 17, 12, 16, 626, 18, 2, 5, 62, 386, 12, 8, 316, 8, 106, 5, 4, 2223, 5244, 16, 480, 66, 3785, 33, 4, 130, 12, 16, 38, 619, 5, 25, 124, 51, 36, 135, 48, 25, 1415, 33, 6, 22, 12, 215, 28, 77, 52, 5, 14, 407, 16, 82, 2, 8, 4, 107, 117, 5952, 15, 256, 4, 2, 7, 3766, 5, 723, 36, 71, 43, 530, 476, 26, 400, 317, 46, 7, 4, 2, 1029, 13, 104, 88, 4, 381, 15, 297, 98, 32, 2071, 56, 26, 141, 6, 194, 7486, 18, 4, 226, 22, 21, 134, 476, 26, 480, 5, 144, 30, 5535, 18, 51, 36, 28, 224, 92, 25, 104, 4, 226, 65, 16, 38, 1334, 88, 12, 16, 283, 5, 16, 4472, 113, 103, 32, 15, 16, 5345, 19, 178, 32].\n",
            "First label: 1.\n",
            "Length of first review before padding: 218.\n",
            "\n",
            "After padding:\n",
            "First review: \n",
            "\t[   0    0    0    0    0    0    0    0    0    0    0    0    0    0\n",
            "    0    0    0    0    0    0    0    0    0    0    0    0    0    0\n",
            "    0    0    0    0    0    0    0    0    0    0    0    0    0    0\n",
            "    0    0    0    0    0    0    0    0    0    0    0    0    0    0\n",
            "    0    0    0    0    0    0    0    0    0    0    0    0    0    0\n",
            "    0    0    0    0    0    0    0    0    0    0    0    0    0    0\n",
            "    0    0    0    0    0    0    0    0    0    0    0    0    0    0\n",
            "    0    0    0    0    0    0    0    0    0    0    0    0    0    0\n",
            "    0    0    0    0    0    0    0    0    0    0    0    0    0    0\n",
            "    0    0    0    0    0    0    0    0    0    0    0    0    0    0\n",
            "    0    0    0    0    0    0    0    0    0    0    0    0    0    0\n",
            "    0    0    0    0    0    0    0    0    0    0    0    0    0    0\n",
            "    0    0    0    0    0    0    0    0    0    0    0    0    0    0\n",
            "    0    0    0    0    0    0    0    0    0    0    0    0    0    0\n",
            "    0    0    0    0    0    0    0    0    0    0    0    0    0    0\n",
            "    0    0    0    0    0    0    0    0    0    0    0    0    0    0\n",
            "    0    0    0    0    0    0    0    0    0    0    0    0    0    0\n",
            "    0    0    0    0    0    0    0    0    0    0    0    0    0    0\n",
            "    0    0    0    0    0    0    0    0    0    0    0    0    0    0\n",
            "    0    0    0    0    0    0    0    0    0    0    0    0    0    0\n",
            "    0    0    1   14   22   16   43  530  973 1622 1385   65  458 4468\n",
            "   66 3941    4  173   36  256    5   25  100   43  838  112   50  670\n",
            "    2    9   35  480  284    5  150    4  172  112  167    2  336  385\n",
            "   39    4  172 4536 1111   17  546   38   13  447    4  192   50   16\n",
            "    6  147 2025   19   14   22    4 1920 4613  469    4   22   71   87\n",
            "   12   16   43  530   38   76   15   13 1247    4   22   17  515   17\n",
            "   12   16  626   18    2    5   62  386   12    8  316    8  106    5\n",
            "    4 2223 5244   16  480   66 3785   33    4  130   12   16   38  619\n",
            "    5   25  124   51   36  135   48   25 1415   33    6   22   12  215\n",
            "   28   77   52    5   14  407   16   82    2    8    4  107  117 5952\n",
            "   15  256    4    2    7 3766    5  723   36   71   43  530  476   26\n",
            "  400  317   46    7    4    2 1029   13  104   88    4  381   15  297\n",
            "   98   32 2071   56   26  141    6  194 7486   18    4  226   22   21\n",
            "  134  476   26  480    5  144   30 5535   18   51   36   28  224   92\n",
            "   25  104    4  226   65   16   38 1334   88   12   16  283    5   16\n",
            " 4472  113  103   32   15   16 5345   19  178   32].\n",
            "Length of first review after padding: 500.\n"
          ]
        }
      ],
      "source": [
        "import numpy as np\n",
        "from keras.datasets import imdb\n",
        "from keras.preprocessing import sequence\n",
        "from tensorflow.keras.preprocessing.text import text_to_word_sequence\n",
        "\n",
        "# number of distinct words\n",
        "vocabulary_size = 10000\n",
        "\n",
        "# number of words per review\n",
        "max_review_length = 500\n",
        "\n",
        "# load Keras IMDB movie reviews dataset\n",
        "(X_train, y_train), (X_test, y_test) = imdb.load_data(num_words=vocabulary_size)\n",
        "\n",
        "print(f'Number of reviews: {len(X_train)}.')\n",
        "print(f'First review: \\n\\t{X_train[0]}.')\n",
        "print(f'First label: {y_train[0]}.')\n",
        "print(f'Length of first review before padding: {len(X_train[0])}.')\n",
        "\n",
        "# padding reviews\n",
        "X_train = sequence.pad_sequences(X_train, maxlen=max_review_length)\n",
        "X_test = sequence.pad_sequences(X_test, maxlen=max_review_length)\n",
        "print(f\"\\nAfter padding:\")\n",
        "print(f'First review: \\n\\t{X_train[0]}.')\n",
        "print(f'Length of first review after padding: {len(X_train[0])}.')"
      ]
    },
    {
      "cell_type": "markdown",
      "metadata": {
        "id": "RJo3CGLv0KSB",
        "pycharm": {
          "name": "#%% md\n"
        }
      },
      "source": [
        "Mapping between real words and indexes:"
      ]
    },
    {
      "cell_type": "code",
      "execution_count": 6,
      "metadata": {
        "colab": {
          "base_uri": "https://localhost:8080/"
        },
        "id": "53a245kt0KSC",
        "outputId": "6a59ac60-4b96-4f80-d0ec-6e76397d105f",
        "pycharm": {
          "name": "#%%\n"
        }
      },
      "outputs": [
        {
          "output_type": "stream",
          "name": "stdout",
          "text": [
            "First review: \n",
            "\tText: please give this one a miss br br and the rest of the cast rendered terrible performances the show is flat flat flat br br i don't know how michael madison could have allowed this one on his plate he almost seemed to know this wasn't going to work out and his performance was quite so all you madison fans give this a miss\n",
            "\tLabel: NEGATIVE\n",
            "\n",
            "Last review: \n",
            "\tText: a good ol' boy film is almost required to have car chases a storyline that has a vague resemblance to plot and at least one very pretty country gal with short shorts and a low top the pretty gal is here dressed in designer but the redneck stop there jimmy dean is a natural as a but as a tough guy former sheriff he comes up way short big john is big but he isn't convincing with the bad part of his bug eyed jack is a hoot as always and bo hopkins has been playing this same part for decades ned beatty also does his part in a small role but there is no story it more like an episode of in the heat of the night than a feature film with easily predictable sentiment perhaps the most glaring problem with this movie is charlie daniels singing the theme you know the one it was made famous by jimmy dean\n",
            "\tLabel: NEGATIVE\n"
          ]
        }
      ],
      "source": [
        "# A dictionary mapping words to an integer index\n",
        "word_index = imdb.get_word_index()\n",
        "\n",
        "# The first indices are reserved, so we map the index for our use\n",
        "word_index = {k:(v+3) for k,v in word_index.items()}\n",
        "word_index[\"<PAD>\"] = 0\n",
        "word_index[\"<START>\"] = 1\n",
        "word_index[\"<UNK>\"] = 2  # unknown\n",
        "word_index[\"<UNUSED>\"] = 3\n",
        "reverse_word_index = dict([(value, key) for (key, value) in word_index.items()])\n",
        "\n",
        "# Decode review text\n",
        "def decode_review(text_ids, cls):\n",
        "    text = ' '.join([reverse_word_index.get(i, '?') for i in text_ids if i not in [0,1,2,3]])\n",
        "    label = 'POSITIVE' if cls == 1 else 'NEGATIVE'\n",
        "    return f\"\\tText: {text}\\n\\tLabel: {label}\"\n",
        "\n",
        "# First review\n",
        "print(f\"First review: \\n{decode_review(X_test[0], y_test[0])}\")\n",
        "# Last review\n",
        "print(f\"\\nLast review: \\n{decode_review(X_test[len(X_test)-1], y_test[len(X_test)-1])}\")"
      ]
    },
    {
      "cell_type": "markdown",
      "metadata": {
        "id": "04jDwdIp0KSC",
        "pycharm": {
          "name": "#%% md\n"
        }
      },
      "source": [
        "Below we create multiple models and evaluate their performance:\n",
        "\n",
        "* **FFN**: Input to the models are word indices directly fed into a Dense layer.\n",
        "* **FFN with embeddings**: After creation of embedding vectors, the same architecture as in *FFN* is used.\n",
        "* **CNN**: Similar to the *FFN with embeddings* model with a convoluational and pooling layer immediatelly after embedding layer,\n",
        "* **RNN**: Simple RNN model with 100 hidden dimensions and prediction at the end.\n",
        "* **CNN+RNN**: A combination of *CNN* and *RNN* models above.\n",
        "\n",
        "The runtime for the below script should take about a half hour using Tesla V100 32GB GPU."
      ]
    },
    {
      "cell_type": "code",
      "execution_count": 9,
      "metadata": {
        "colab": {
          "base_uri": "https://localhost:8080/"
        },
        "id": "rVbZUPjD0KSC",
        "outputId": "1b869511-6c5a-4f29-f8d7-9be7a3455557",
        "pycharm": {
          "name": "#%%\n"
        }
      },
      "outputs": [
        {
          "output_type": "stream",
          "name": "stdout",
          "text": [
            "Epoch 1/20\n",
            "196/196 - 34s - 172ms/step - accuracy: 0.5063 - loss: 187.5005\n",
            "Epoch 2/20\n",
            "196/196 - 9s - 44ms/step - accuracy: 0.5835 - loss: 55.1000\n",
            "Epoch 3/20\n",
            "196/196 - 0s - 1ms/step - accuracy: 0.6605 - loss: 21.6002\n",
            "Epoch 4/20\n",
            "196/196 - 0s - 2ms/step - accuracy: 0.7261 - loss: 10.0428\n",
            "Epoch 5/20\n",
            "196/196 - 0s - 2ms/step - accuracy: 0.7714 - loss: 5.2877\n",
            "Epoch 6/20\n",
            "196/196 - 0s - 1ms/step - accuracy: 0.8044 - loss: 3.1379\n",
            "Epoch 7/20\n",
            "196/196 - 0s - 2ms/step - accuracy: 0.8311 - loss: 2.0182\n",
            "Epoch 8/20\n",
            "196/196 - 0s - 2ms/step - accuracy: 0.8548 - loss: 1.3616\n",
            "Epoch 9/20\n",
            "196/196 - 0s - 1ms/step - accuracy: 0.8720 - loss: 0.9817\n",
            "Epoch 10/20\n",
            "196/196 - 0s - 1ms/step - accuracy: 0.8879 - loss: 0.7537\n",
            "Epoch 11/20\n",
            "196/196 - 0s - 2ms/step - accuracy: 0.8867 - loss: 0.7438\n",
            "Epoch 12/20\n",
            "196/196 - 0s - 1ms/step - accuracy: 0.8991 - loss: 0.6134\n",
            "Epoch 13/20\n",
            "196/196 - 0s - 1ms/step - accuracy: 0.9016 - loss: 0.6031\n",
            "Epoch 14/20\n",
            "196/196 - 0s - 1ms/step - accuracy: 0.9076 - loss: 0.5467\n",
            "Epoch 15/20\n",
            "196/196 - 0s - 2ms/step - accuracy: 0.9003 - loss: 0.6525\n",
            "Epoch 16/20\n",
            "196/196 - 0s - 1ms/step - accuracy: 0.9122 - loss: 0.5694\n",
            "Epoch 17/20\n",
            "196/196 - 0s - 1ms/step - accuracy: 0.9136 - loss: 0.5679\n",
            "Epoch 18/20\n",
            "196/196 - 0s - 2ms/step - accuracy: 0.9088 - loss: 0.6540\n",
            "Epoch 19/20\n",
            "196/196 - 0s - 1ms/step - accuracy: 0.9068 - loss: 0.6762\n",
            "Epoch 20/20\n",
            "196/196 - 0s - 2ms/step - accuracy: 0.9014 - loss: 0.7685\n",
            "Epoch 1/20\n",
            "196/196 - 7s - 35ms/step - accuracy: 0.4991 - loss: 0.7799\n",
            "Epoch 2/20\n",
            "196/196 - 3s - 17ms/step - accuracy: 0.5220 - loss: 0.6826\n",
            "Epoch 3/20\n",
            "196/196 - 5s - 27ms/step - accuracy: 0.5819 - loss: 0.6466\n",
            "Epoch 4/20\n",
            "196/196 - 3s - 13ms/step - accuracy: 0.6716 - loss: 0.5362\n",
            "Epoch 5/20\n",
            "196/196 - 5s - 27ms/step - accuracy: 0.9148 - loss: 0.2116\n",
            "Epoch 6/20\n",
            "196/196 - 3s - 14ms/step - accuracy: 0.9715 - loss: 0.0873\n",
            "Epoch 7/20\n",
            "196/196 - 3s - 13ms/step - accuracy: 0.9949 - loss: 0.0234\n",
            "Epoch 8/20\n",
            "196/196 - 3s - 14ms/step - accuracy: 0.9993 - loss: 0.0045\n",
            "Epoch 9/20\n",
            "196/196 - 3s - 14ms/step - accuracy: 1.0000 - loss: 9.2314e-04\n",
            "Epoch 10/20\n",
            "196/196 - 5s - 26ms/step - accuracy: 1.0000 - loss: 2.5698e-04\n",
            "Epoch 11/20\n",
            "196/196 - 5s - 26ms/step - accuracy: 1.0000 - loss: 1.4284e-04\n",
            "Epoch 12/20\n",
            "196/196 - 5s - 26ms/step - accuracy: 1.0000 - loss: 9.3795e-05\n",
            "Epoch 13/20\n",
            "196/196 - 5s - 26ms/step - accuracy: 1.0000 - loss: 6.6523e-05\n",
            "Epoch 14/20\n",
            "196/196 - 3s - 14ms/step - accuracy: 1.0000 - loss: 4.9528e-05\n",
            "Epoch 15/20\n",
            "196/196 - 3s - 14ms/step - accuracy: 1.0000 - loss: 3.8650e-05\n",
            "Epoch 16/20\n",
            "196/196 - 5s - 26ms/step - accuracy: 1.0000 - loss: 2.9655e-05\n",
            "Epoch 17/20\n",
            "196/196 - 3s - 14ms/step - accuracy: 1.0000 - loss: 2.4214e-05\n",
            "Epoch 18/20\n",
            "196/196 - 5s - 26ms/step - accuracy: 1.0000 - loss: 1.9580e-05\n",
            "Epoch 19/20\n",
            "196/196 - 5s - 26ms/step - accuracy: 1.0000 - loss: 1.6335e-05\n",
            "Epoch 20/20\n",
            "196/196 - 3s - 14ms/step - accuracy: 1.0000 - loss: 1.3634e-05\n",
            "Epoch 1/20\n",
            "196/196 - 11s - 58ms/step - accuracy: 0.7457 - loss: 0.4669\n",
            "Epoch 2/20\n",
            "196/196 - 6s - 33ms/step - accuracy: 0.9259 - loss: 0.1983\n",
            "Epoch 3/20\n",
            "196/196 - 10s - 53ms/step - accuracy: 0.9629 - loss: 0.1074\n",
            "Epoch 4/20\n",
            "196/196 - 10s - 52ms/step - accuracy: 0.9880 - loss: 0.0443\n",
            "Epoch 5/20\n",
            "196/196 - 6s - 31ms/step - accuracy: 0.9956 - loss: 0.0180\n",
            "Epoch 6/20\n",
            "196/196 - 6s - 30ms/step - accuracy: 0.9987 - loss: 0.0065\n",
            "Epoch 7/20\n",
            "196/196 - 10s - 53ms/step - accuracy: 0.9996 - loss: 0.0026\n",
            "Epoch 8/20\n",
            "196/196 - 10s - 52ms/step - accuracy: 0.9999 - loss: 6.3923e-04\n",
            "Epoch 9/20\n",
            "196/196 - 10s - 52ms/step - accuracy: 1.0000 - loss: 2.1335e-04\n",
            "Epoch 10/20\n",
            "196/196 - 10s - 52ms/step - accuracy: 1.0000 - loss: 1.0772e-04\n",
            "Epoch 11/20\n",
            "196/196 - 6s - 31ms/step - accuracy: 1.0000 - loss: 7.3671e-05\n",
            "Epoch 12/20\n",
            "196/196 - 10s - 53ms/step - accuracy: 1.0000 - loss: 5.4636e-05\n",
            "Epoch 13/20\n",
            "196/196 - 10s - 52ms/step - accuracy: 1.0000 - loss: 4.2480e-05\n",
            "Epoch 14/20\n",
            "196/196 - 10s - 52ms/step - accuracy: 1.0000 - loss: 3.3747e-05\n",
            "Epoch 15/20\n",
            "196/196 - 6s - 31ms/step - accuracy: 1.0000 - loss: 2.7023e-05\n",
            "Epoch 16/20\n",
            "196/196 - 6s - 31ms/step - accuracy: 1.0000 - loss: 1.9996e-05\n",
            "Epoch 17/20\n",
            "196/196 - 6s - 31ms/step - accuracy: 1.0000 - loss: 1.5988e-05\n",
            "Epoch 18/20\n",
            "196/196 - 6s - 31ms/step - accuracy: 1.0000 - loss: 1.3291e-05\n",
            "Epoch 19/20\n",
            "196/196 - 6s - 31ms/step - accuracy: 1.0000 - loss: 1.1155e-05\n",
            "Epoch 20/20\n",
            "196/196 - 10s - 52ms/step - accuracy: 1.0000 - loss: 9.5905e-06\n",
            "Epoch 1/3\n",
            "\u001b[1m391/391\u001b[0m \u001b[32m━━━━━━━━━━━━━━━━━━━━\u001b[0m\u001b[37m\u001b[0m \u001b[1m23s\u001b[0m 51ms/step - accuracy: 0.5932 - loss: 0.6680\n",
            "Epoch 2/3\n",
            "\u001b[1m391/391\u001b[0m \u001b[32m━━━━━━━━━━━━━━━━━━━━\u001b[0m\u001b[37m\u001b[0m \u001b[1m19s\u001b[0m 48ms/step - accuracy: 0.7464 - loss: 0.5226\n",
            "Epoch 3/3\n",
            "\u001b[1m391/391\u001b[0m \u001b[32m━━━━━━━━━━━━━━━━━━━━\u001b[0m\u001b[37m\u001b[0m \u001b[1m21s\u001b[0m 49ms/step - accuracy: 0.7094 - loss: 0.5660\n",
            "Epoch 1/10\n",
            "\u001b[1m391/391\u001b[0m \u001b[32m━━━━━━━━━━━━━━━━━━━━\u001b[0m\u001b[37m\u001b[0m \u001b[1m16s\u001b[0m 32ms/step - accuracy: 0.6124 - loss: 0.6260\n",
            "Epoch 2/10\n",
            "\u001b[1m391/391\u001b[0m \u001b[32m━━━━━━━━━━━━━━━━━━━━\u001b[0m\u001b[37m\u001b[0m \u001b[1m11s\u001b[0m 29ms/step - accuracy: 0.8196 - loss: 0.3892\n",
            "Epoch 3/10\n",
            "\u001b[1m391/391\u001b[0m \u001b[32m━━━━━━━━━━━━━━━━━━━━\u001b[0m\u001b[37m\u001b[0m \u001b[1m20s\u001b[0m 29ms/step - accuracy: 0.7490 - loss: 0.5110\n",
            "Epoch 4/10\n",
            "\u001b[1m391/391\u001b[0m \u001b[32m━━━━━━━━━━━━━━━━━━━━\u001b[0m\u001b[37m\u001b[0m \u001b[1m21s\u001b[0m 29ms/step - accuracy: 0.8314 - loss: 0.3728\n",
            "Epoch 5/10\n",
            "\u001b[1m391/391\u001b[0m \u001b[32m━━━━━━━━━━━━━━━━━━━━\u001b[0m\u001b[37m\u001b[0m \u001b[1m21s\u001b[0m 29ms/step - accuracy: 0.8571 - loss: 0.3349\n",
            "Epoch 6/10\n",
            "\u001b[1m391/391\u001b[0m \u001b[32m━━━━━━━━━━━━━━━━━━━━\u001b[0m\u001b[37m\u001b[0m \u001b[1m20s\u001b[0m 29ms/step - accuracy: 0.8520 - loss: 0.3345\n",
            "Epoch 7/10\n",
            "\u001b[1m391/391\u001b[0m \u001b[32m━━━━━━━━━━━━━━━━━━━━\u001b[0m\u001b[37m\u001b[0m \u001b[1m11s\u001b[0m 29ms/step - accuracy: 0.8985 - loss: 0.2499\n",
            "Epoch 8/10\n",
            "\u001b[1m391/391\u001b[0m \u001b[32m━━━━━━━━━━━━━━━━━━━━\u001b[0m\u001b[37m\u001b[0m \u001b[1m11s\u001b[0m 29ms/step - accuracy: 0.8891 - loss: 0.2727\n",
            "Epoch 9/10\n",
            "\u001b[1m391/391\u001b[0m \u001b[32m━━━━━━━━━━━━━━━━━━━━\u001b[0m\u001b[37m\u001b[0m \u001b[1m11s\u001b[0m 29ms/step - accuracy: 0.9438 - loss: 0.1595\n",
            "Epoch 10/10\n",
            "\u001b[1m391/391\u001b[0m \u001b[32m━━━━━━━━━━━━━━━━━━━━\u001b[0m\u001b[37m\u001b[0m \u001b[1m21s\u001b[0m 29ms/step - accuracy: 0.9552 - loss: 0.1329\n",
            "                  Model Accuracy\n",
            "0                  FFNN   50.69%\n",
            "1  FFNN with Embeddings   87.04%\n",
            "2                   CNN   87.44%\n",
            "3                   RNN   64.39%\n",
            "4               CNN+RNN   81.44%\n"
          ]
        }
      ],
      "source": [
        "from keras.models import Sequential\n",
        "from keras.layers import Dense, LSTM, SimpleRNN, Flatten\n",
        "from keras.layers import Embedding\n",
        "from keras.layers import Conv1D, MaxPooling1D\n",
        "import pandas as pd\n",
        "\n",
        "EMBEDDING_DIM = 256\n",
        "\n",
        "# Fully connected neural network\n",
        "model_ffn = Sequential()\n",
        "model_ffn.add(Dense(250, activation='relu'))\n",
        "model_ffn.add(Dense(1, activation='sigmoid'))\n",
        "model_ffn.compile(loss='binary_crossentropy', optimizer='adam', metrics=['accuracy'])\n",
        "history_ffn = model_ffn.fit(X_train, y_train, epochs=20, batch_size=128, verbose=2)\n",
        "scores_ffn = model_ffn.evaluate(X_test, y_test, verbose=0)\n",
        "\n",
        "# Fully connected neural network with embeddings\n",
        "model_ffne = Sequential()\n",
        "model_ffne.add(Embedding(vocabulary_size, EMBEDDING_DIM))\n",
        "model_ffne.add(Flatten())\n",
        "model_ffne.add(Dense(250, activation='relu'))\n",
        "model_ffne.add(Dense(1, activation='sigmoid'))\n",
        "model_ffne.compile(loss='binary_crossentropy', optimizer='adam', metrics=['accuracy'])\n",
        "history_ffne = model_ffne.fit(X_train, y_train, epochs=20, batch_size=128, verbose=2)\n",
        "scores_ffne = model_ffne.evaluate(X_test, y_test, verbose=0)\n",
        "\n",
        "# Convolutional neural network\n",
        "model_cnn = Sequential()\n",
        "model_cnn.add(Embedding(vocabulary_size, EMBEDDING_DIM))\n",
        "model_cnn.add(Conv1D(filters=200, kernel_size=3, padding='same', activation='relu'))\n",
        "model_cnn.add(MaxPooling1D(pool_size=2))\n",
        "model_cnn.add(Flatten())\n",
        "model_cnn.add(Dense(250, activation='relu'))\n",
        "model_cnn.add(Dense(1, activation='sigmoid'))\n",
        "model_cnn.compile(loss='binary_crossentropy', optimizer='adam', metrics=['accuracy'])\n",
        "history_cnn = model_cnn.fit(X_train, y_train, epochs=20, batch_size=128, verbose=2)\n",
        "scores_cnn = model_cnn.evaluate(X_test, y_test, verbose=0)\n",
        "\n",
        "# Recurrent Neural Network\n",
        "model_rnn = Sequential()\n",
        "model_rnn.add(Embedding(vocabulary_size, EMBEDDING_DIM))\n",
        "model_rnn.add(SimpleRNN(100))\n",
        "model_rnn.add(Dense(1, activation='sigmoid'))\n",
        "model_rnn.compile(loss='binary_crossentropy', optimizer='adam', metrics=['accuracy'])\n",
        "history_rnn = model_rnn.fit(X_train, y_train, epochs=3, batch_size=64)\n",
        "scores_rnn = model_rnn.evaluate(X_test, y_test, verbose=0)\n",
        "\n",
        "# Convolutional + Recurrent Neural Network\n",
        "model_cnn_rnn = Sequential()\n",
        "model_cnn_rnn.add(Embedding(vocabulary_size, EMBEDDING_DIM))\n",
        "model_cnn_rnn.add(Conv1D(filters=32, kernel_size=3, padding='same', activation='relu'))\n",
        "model_cnn_rnn.add(MaxPooling1D(pool_size=2))\n",
        "model_cnn_rnn.add(SimpleRNN(100))\n",
        "model_cnn_rnn.add(Dense(1, activation='sigmoid'))\n",
        "model_cnn_rnn.compile(loss='binary_crossentropy', optimizer='adam', metrics=['accuracy'])\n",
        "history_cnn_rnn = model_cnn_rnn.fit(X_train, y_train, epochs=10, batch_size=64)\n",
        "scores_cnn_rnn = model_cnn_rnn.evaluate(X_test, y_test, verbose=0)\n",
        "\n",
        "# Evaluation\n",
        "df = pd.DataFrame({'Model': ['FFNN', 'FFNN with Embeddings', 'CNN', 'RNN', 'CNN+RNN'],\n",
        "                   'Accuracy': [str(round(scores_ffn[1]*100, 2)) + '%',\n",
        "                                str(round(scores_ffne[1]*100, 2)) + '%',\n",
        "                                str(round(scores_cnn[1]*100, 2)) + '%',\n",
        "                                str(round(scores_rnn[1]*100, 2)) + '%',\n",
        "                                str(round(scores_cnn_rnn[1]*100, 2)) + '%']})\n",
        "print(df)"
      ]
    },
    {
      "cell_type": "markdown",
      "metadata": {
        "id": "pu5IEkTP0KSD",
        "pycharm": {
          "name": "#%% md\n"
        }
      },
      "source": [
        "The code above should output something similar to the following:\n",
        "\n",
        "```\n",
        "                            Model Accuracy\n",
        "          0                  FFNN   50.79%\n",
        "          1  FFNN with Embeddings   87.64%\n",
        "          2                   CNN   87.55%\n",
        "          3                   RNN   61.14%\n",
        "          4               CNN+RNN   82.62%\n",
        "```\n",
        "\n",
        "Surprisingly, the fully connected neural network with embeddings and convolutional neural network outperform the remaining networks. FFN is a very simple network with a single 250 dimensional dense layer.\n",
        "\n",
        "CNNs can be robust to the position and orientation of learned objects in the image, while the same principle can be used on sequences, such as the one-dimensional sequence of words in a movie review. A simple RNN seems not to be very competitive but together with a CNN it achieves a decent performance.\n",
        "\n",
        "Now, let's test the models with some custom examples:"
      ]
    },
    {
      "cell_type": "code",
      "execution_count": 14,
      "metadata": {
        "colab": {
          "base_uri": "https://localhost:8080/"
        },
        "id": "NPL1oXTE0KSE",
        "outputId": "fa852299-9b2d-4279-d7f4-76523cde1060",
        "pycharm": {
          "name": "#%%\n"
        }
      },
      "outputs": [
        {
          "output_type": "stream",
          "name": "stdout",
          "text": [
            "\u001b[1m1/1\u001b[0m \u001b[32m━━━━━━━━━━━━━━━━━━━━\u001b[0m\u001b[37m\u001b[0m \u001b[1m0s\u001b[0m 26ms/step\n",
            "\u001b[1m1/1\u001b[0m \u001b[32m━━━━━━━━━━━━━━━━━━━━\u001b[0m\u001b[37m\u001b[0m \u001b[1m0s\u001b[0m 24ms/step\n",
            "\u001b[1m1/1\u001b[0m \u001b[32m━━━━━━━━━━━━━━━━━━━━\u001b[0m\u001b[37m\u001b[0m \u001b[1m0s\u001b[0m 30ms/step\n",
            "\u001b[1m1/1\u001b[0m \u001b[32m━━━━━━━━━━━━━━━━━━━━\u001b[0m\u001b[37m\u001b[0m \u001b[1m0s\u001b[0m 31ms/step\n",
            "\u001b[1m1/1\u001b[0m \u001b[32m━━━━━━━━━━━━━━━━━━━━\u001b[0m\u001b[37m\u001b[0m \u001b[1m0s\u001b[0m 28ms/step\n",
            "\u001b[1m1/1\u001b[0m \u001b[32m━━━━━━━━━━━━━━━━━━━━\u001b[0m\u001b[37m\u001b[0m \u001b[1m0s\u001b[0m 27ms/step\n",
            "\u001b[1m1/1\u001b[0m \u001b[32m━━━━━━━━━━━━━━━━━━━━\u001b[0m\u001b[37m\u001b[0m \u001b[1m0s\u001b[0m 32ms/step\n",
            "\u001b[1m1/1\u001b[0m \u001b[32m━━━━━━━━━━━━━━━━━━━━\u001b[0m\u001b[37m\u001b[0m \u001b[1m0s\u001b[0m 24ms/step\n",
            "\u001b[1m1/1\u001b[0m \u001b[32m━━━━━━━━━━━━━━━━━━━━\u001b[0m\u001b[37m\u001b[0m \u001b[1m0s\u001b[0m 37ms/step\n",
            "\u001b[1m1/1\u001b[0m \u001b[32m━━━━━━━━━━━━━━━━━━━━\u001b[0m\u001b[37m\u001b[0m \u001b[1m0s\u001b[0m 27ms/step\n",
            "\u001b[1m1/1\u001b[0m \u001b[32m━━━━━━━━━━━━━━━━━━━━\u001b[0m\u001b[37m\u001b[0m \u001b[1m0s\u001b[0m 24ms/step\n",
            "\u001b[1m1/1\u001b[0m \u001b[32m━━━━━━━━━━━━━━━━━━━━\u001b[0m\u001b[37m\u001b[0m \u001b[1m0s\u001b[0m 27ms/step\n",
            "\u001b[1m1/1\u001b[0m \u001b[32m━━━━━━━━━━━━━━━━━━━━\u001b[0m\u001b[37m\u001b[0m \u001b[1m0s\u001b[0m 26ms/step\n",
            "\u001b[1m1/1\u001b[0m \u001b[32m━━━━━━━━━━━━━━━━━━━━\u001b[0m\u001b[37m\u001b[0m \u001b[1m0s\u001b[0m 37ms/step\n",
            "\u001b[1m1/1\u001b[0m \u001b[32m━━━━━━━━━━━━━━━━━━━━\u001b[0m\u001b[37m\u001b[0m \u001b[1m0s\u001b[0m 30ms/step\n",
            "\u001b[1m1/1\u001b[0m \u001b[32m━━━━━━━━━━━━━━━━━━━━\u001b[0m\u001b[37m\u001b[0m \u001b[1m0s\u001b[0m 28ms/step\n",
            "\u001b[1m1/1\u001b[0m \u001b[32m━━━━━━━━━━━━━━━━━━━━\u001b[0m\u001b[37m\u001b[0m \u001b[1m0s\u001b[0m 24ms/step\n",
            "\u001b[1m1/1\u001b[0m \u001b[32m━━━━━━━━━━━━━━━━━━━━\u001b[0m\u001b[37m\u001b[0m \u001b[1m0s\u001b[0m 29ms/step\n",
            "\u001b[1m1/1\u001b[0m \u001b[32m━━━━━━━━━━━━━━━━━━━━\u001b[0m\u001b[37m\u001b[0m \u001b[1m0s\u001b[0m 31ms/step\n",
            "\u001b[1m1/1\u001b[0m \u001b[32m━━━━━━━━━━━━━━━━━━━━\u001b[0m\u001b[37m\u001b[0m \u001b[1m0s\u001b[0m 25ms/step\n",
            "\u001b[1m1/1\u001b[0m \u001b[32m━━━━━━━━━━━━━━━━━━━━\u001b[0m\u001b[37m\u001b[0m \u001b[1m0s\u001b[0m 18ms/step\n",
            "\u001b[1m1/1\u001b[0m \u001b[32m━━━━━━━━━━━━━━━━━━━━\u001b[0m\u001b[37m\u001b[0m \u001b[1m0s\u001b[0m 16ms/step\n",
            "\u001b[1m1/1\u001b[0m \u001b[32m━━━━━━━━━━━━━━━━━━━━\u001b[0m\u001b[37m\u001b[0m \u001b[1m0s\u001b[0m 25ms/step\n",
            "\u001b[1m1/1\u001b[0m \u001b[32m━━━━━━━━━━━━━━━━━━━━\u001b[0m\u001b[37m\u001b[0m \u001b[1m0s\u001b[0m 21ms/step\n",
            "\u001b[1m1/1\u001b[0m \u001b[32m━━━━━━━━━━━━━━━━━━━━\u001b[0m\u001b[37m\u001b[0m \u001b[1m0s\u001b[0m 22ms/step\n",
            "\u001b[1m1/1\u001b[0m \u001b[32m━━━━━━━━━━━━━━━━━━━━\u001b[0m\u001b[37m\u001b[0m \u001b[1m0s\u001b[0m 18ms/step\n",
            "\u001b[1m1/1\u001b[0m \u001b[32m━━━━━━━━━━━━━━━━━━━━\u001b[0m\u001b[37m\u001b[0m \u001b[1m0s\u001b[0m 16ms/step\n",
            "\u001b[1m1/1\u001b[0m \u001b[32m━━━━━━━━━━━━━━━━━━━━\u001b[0m\u001b[37m\u001b[0m \u001b[1m0s\u001b[0m 16ms/step\n",
            "\u001b[1m1/1\u001b[0m \u001b[32m━━━━━━━━━━━━━━━━━━━━\u001b[0m\u001b[37m\u001b[0m \u001b[1m0s\u001b[0m 20ms/step\n",
            "\u001b[1m1/1\u001b[0m \u001b[32m━━━━━━━━━━━━━━━━━━━━\u001b[0m\u001b[37m\u001b[0m \u001b[1m0s\u001b[0m 18ms/step\n",
            "\u001b[1m1/1\u001b[0m \u001b[32m━━━━━━━━━━━━━━━━━━━━\u001b[0m\u001b[37m\u001b[0m \u001b[1m0s\u001b[0m 16ms/step\n",
            "\u001b[1m1/1\u001b[0m \u001b[32m━━━━━━━━━━━━━━━━━━━━\u001b[0m\u001b[37m\u001b[0m \u001b[1m0s\u001b[0m 15ms/step\n",
            "\u001b[1m1/1\u001b[0m \u001b[32m━━━━━━━━━━━━━━━━━━━━\u001b[0m\u001b[37m\u001b[0m \u001b[1m0s\u001b[0m 16ms/step\n",
            "\u001b[1m1/1\u001b[0m \u001b[32m━━━━━━━━━━━━━━━━━━━━\u001b[0m\u001b[37m\u001b[0m \u001b[1m0s\u001b[0m 22ms/step\n",
            "\u001b[1m1/1\u001b[0m \u001b[32m━━━━━━━━━━━━━━━━━━━━\u001b[0m\u001b[37m\u001b[0m \u001b[1m0s\u001b[0m 18ms/step\n",
            "                                              review FFN FFNE CNN RNN CNN+RNN\n",
            "0                                          I like it   -    -   +   -       -\n",
            "1                                     I dont like it   -    -   +   -       -\n",
            "2  After 30 min I still did not know what the mov...   -    +   +   -       -\n",
            "3  It is so good that I will never ever watch it ...   -    -   -   -       -\n",
            "4                      It is like the Titanic movie!   -    +   +   -       -\n",
            "5           That is the best movie I have ever seen.   -    +   +   -       -\n",
            "6          That is the worst movie I have ever seen.   -    -   +   -       -\n"
          ]
        }
      ],
      "source": [
        "def movie_sentiment(reviews,\n",
        "                    models=[model_ffn, model_ffne, model_cnn, model_rnn, model_cnn_rnn],\n",
        "                    titles=['FFN', 'FFNE', 'CNN', 'RNN', 'CNN+RNN']):\n",
        "    df = pd.DataFrame(columns=['review'] + titles)\n",
        "    i = 0\n",
        "    for review in reviews:\n",
        "        words = set(text_to_word_sequence(review))\n",
        "        words = [word_index[w] for w in words]\n",
        "        words = sequence.pad_sequences([words], maxlen=max_review_length)\n",
        "        df.loc[i] = [review] + titles\n",
        "        df.loc[i, 'review'] = review\n",
        "        for j, model in enumerate(models):\n",
        "            proba = model.predict(words)\n",
        "            sentiment = '+' if proba>0.5 else '-'\n",
        "            df.loc[i, titles[j]] = sentiment\n",
        "        i = i + 1\n",
        "    return df\n",
        "\n",
        "text1 = 'I like it'\n",
        "text2 = 'I dont like it'\n",
        "text3 = 'After 30 min I still did not know what the movie is about'\n",
        "text4 = 'It is so good that I will never ever watch it again. Boring experience.'\n",
        "text5 = \"It is like the Titanic movie!\"\n",
        "text6 = \"That is the best movie I have ever seen.\"\n",
        "text7 = \"That is the worst movie I have ever seen.\"\n",
        "print(movie_sentiment([text1, text2, text3, text4, text5, text6, text7]))"
      ]
    },
    {
      "cell_type": "markdown",
      "metadata": {
        "id": "hhMH-vxk0KSE",
        "pycharm": {
          "name": "#%% md\n"
        }
      },
      "source": [
        "The test above should output something similar to the following:\n",
        "\n",
        "```\n",
        "                                              review FFN FFNE CNN RNN CNN+RNN  | EXPECTED\n",
        "0                                          I like it   -    +   +   +       -  |        +\n",
        "1                                     I dont like it   +    -   +   +       -  |        -\n",
        "2  After 30 min I still did not know what the mov...   +    +   +   -       -  |        -\n",
        "3  It is so good that I will never ever watch it ...   -    +   +   -       -  |        -\n",
        "4                      It is like the Titanic movie!   +    +   +   +       -  |        +\n",
        "5           That is the best movie I have ever seen.   +    +   +   +       -  |        +\n",
        "6          That is the worst movie I have ever seen.   -    -   -   -       -  |        -\n",
        "-----------------------------------------------------------------------------------------\n",
        "                                 CORRECT PREDICTIONS   4    5   4   6       4  |        7\n",
        "```\n",
        "\n",
        "It seems that RNN performed as the best on these few short examples.\n",
        "\n",
        "Try different architectures, models, hyperparameters (e.g. embedding dimensions), ... and you might improve the results."
      ]
    },
    {
      "cell_type": "markdown",
      "metadata": {
        "id": "MjPeh9_80KSF",
        "pycharm": {
          "name": "#%% md\n"
        }
      },
      "source": [
        "## References\n",
        "\n",
        "* The example above follows the post by Michel Kana, PhD: [Sentiment analysis: a practical benchmark](https://towardsdatascience.com/sentiment-analysis-a-benchmark-903279cab44a)"
      ]
    }
  ],
  "metadata": {
    "accelerator": "GPU",
    "colab": {
      "provenance": []
    },
    "kernelspec": {
      "display_name": "Python 3 (ipykernel)",
      "language": "python",
      "name": "python3"
    },
    "language_info": {
      "codemirror_mode": {
        "name": "ipython",
        "version": 3
      },
      "file_extension": ".py",
      "mimetype": "text/x-python",
      "name": "python",
      "nbconvert_exporter": "python",
      "pygments_lexer": "ipython3",
      "version": "3.7.16"
    }
  },
  "nbformat": 4,
  "nbformat_minor": 0
}