{
 "cells": [
  {
   "cell_type": "markdown",
   "id": "3496f588-efc2-436d-b122-314e3bde6350",
   "metadata": {},
   "source": [
    "# Data Wrangling"
   ]
  },
  {
   "cell_type": "markdown",
   "id": "f49ef11a-f6dd-444a-a9a5-b56033d5392c",
   "metadata": {},
   "source": [
    "Working with text files\n",
    "\n",
    "- Download WSC dataset: https://drive.google.com/file/d/1pAFXnjHyeRm9TGV9mknM25f7AvS8UZ4-/view?usp=share_link\n",
    "- Read files and store them into one dataframe (preserve train, test, and val split info)\n",
    "- Count label values: What is the distribution of the target variable?\n",
    "- Create a new variable that stores text without tags\n",
    "- Create new variables that store the number of characters, sentences and words of every sample\n",
    "- Create new variables that store information about tagged words: their position in the text (index). Assume that empty space is a delimiter. \n",
    "- Save to disk 3 files in json lines format (train.jsonl, val.jsonl, test.jsonl) "
   ]
  }
 ],
 "metadata": {
  "kernelspec": {
   "display_name": "Python 3 (ipykernel)",
   "language": "python",
   "name": "python3"
  },
  "language_info": {
   "codemirror_mode": {
    "name": "ipython",
    "version": 3
   },
   "file_extension": ".py",
   "mimetype": "text/x-python",
   "name": "python",
   "nbconvert_exporter": "python",
   "pygments_lexer": "ipython3",
   "version": "3.10.13"
  }
 },
 "nbformat": 4,
 "nbformat_minor": 5
}
