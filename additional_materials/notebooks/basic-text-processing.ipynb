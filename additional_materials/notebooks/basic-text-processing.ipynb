{
 "cells": [
  {
   "cell_type": "markdown",
   "id": "fcfaf8f4-d357-419e-b3e8-8ed47620d84c",
   "metadata": {},
   "source": [
    "# Text Processing Exercises"
   ]
  },
  {
   "cell_type": "markdown",
   "id": "b40fb243-6c93-46ef-8291-f93f8c33dff0",
   "metadata": {},
   "source": [
    "## Exercise 1: Text Analysis Basics\n",
    "**Objective:** Get comfortable with basic string operations and text manipulation.\n",
    "\n",
    "- Write a Python script to count the number of words in a given text.\n",
    "- Create a function that identifies and counts the frequency of each unique word in a text.\n",
    "- Develop a script to find and replace specific words in a text with another word of your choice."
   ]
  },
  {
   "cell_type": "code",
   "execution_count": null,
   "id": "171e1ef9-d0f9-4de9-99b9-46644dc6bbdd",
   "metadata": {},
   "outputs": [],
   "source": [
    "sample_text = \"\"\"\n",
    "In the heart of an ancient forest, a mysterious library stood untouched by time. Its shelves were laden with books of every conceivable subject, from the arcane arts to the natural sciences. The air was thick with the scent of old paper and whispers of knowledge long forgotten. Scholars from distant lands would journey for months to study its tomes, delving into secrets that were as old as the forest itself.\n",
    "\n",
    "One day, a young wanderer stumbled upon the library. With eyes wide with wonder, she explored its vast halls, her fingers brushing against the spines of books that had not been touched in centuries. The library seemed to welcome her, its dimly lit corridors flickering to life as she passed. In this haven of knowledge, the wanderer found not just the answers to her questions, but also questions she had never thought to ask.\n",
    "\"\"\""
   ]
  },
  {
   "cell_type": "markdown",
   "id": "0062f298-62db-4d46-83a6-cf0def71a7fd",
   "metadata": {},
   "source": [
    "## Exercise 2: Regular Expressions\n",
    "**Objective:** Practice using regular expressions for pattern matching and text manipulation.\n",
    "\n",
    "- Write a Python function that uses regular expressions to find all email addresses in a given text.\n",
    "- Create a script that extracts all dates (in the format xx/xx/xxxx) from a text.\n",
    "- Develop a regular expression that identifies all occurrences of Slovene phone numbers in a text."
   ]
  },
  {
   "cell_type": "code",
   "execution_count": 1,
   "id": "0ad8c45c-b47d-4f71-a856-4ccea0f06f90",
   "metadata": {},
   "outputs": [],
   "source": [
    "# Define the sample text\n",
    "sample_text = \"\"\"\n",
    "John's email is john.doe@example.com, and he started working with us on 3rd April 2021. For inquiries, you can also reach out to Jane at jane_doe123@workmail.com. Our office was established on 15/08/1999, and since then, we have been located at 123 Baker Street. Remember to mark the important date, 01-Jan-2023, for our annual meeting. For more information, visit our website or contact admin@ourwebsite.org.\n",
    "\"\"\""
   ]
  },
  {
   "cell_type": "markdown",
   "id": "c27fcb4a-2db4-49da-b4f4-8b085ef13412",
   "metadata": {},
   "source": [
    "## Exercise 3: Text Preprocessing Techniques for Slovene\n",
    "**Objective:** Deepen understanding of text preprocessing techniques.\n",
    "\n",
    "- Use classla pipeline to process given text.\n",
    "- Iterate through text and print words, their lemmas and POS tags line by line. \n",
    "- Find a list of Slovene stopwords on the web and filter them out from the given text."
   ]
  },
  {
   "cell_type": "code",
   "execution_count": null,
   "id": "73bfd43f-a625-4e50-b36b-ca501df7b4f9",
   "metadata": {},
   "outputs": [],
   "source": [
    "slovene_text = \"\"\"\n",
    "V središču starega mesta Ljubljana stoji mogočna Ljubljanska katedrala, ki privablja obiskovalce iz vseh koncev sveta. Zgrajena v baročnem slogu, ta arhitekturni biser razkriva zgodovino in kulturo slovenske prestolnice. Njene veličastne freske in izdelano rezbarstvo vzbujajo občudovanje in spoštovanje med vsemi, ki prestopijo njen prag.\n",
    "\n",
    "Le nekaj ulic stran, ob bregovih reke Ljubljanice, se razteza živahna tržnica, kjer lokalni pridelovalci vsak dan ponujajo sveže sadje, zelenjavo in druge domače izdelke. Ta kraj je središče mestnega vrveža in priljubljeno zbirališče tako za domačine kot turiste. Sprehajalci lahko uživajo v prijetnem vzdušju, ki ga ustvarjajo številne kavarne in restavracije, ki obdajajo tržnico.\n",
    "\"\"\""
   ]
  },
  {
   "cell_type": "markdown",
   "id": "2b18b7f2-d4ba-4517-afdc-507d9e20cf46",
   "metadata": {},
   "source": [
    "## Exercise 4: Rule-Based Systems\n",
    "**Objective:** Understand and apply rule-based systems for text processing.\n",
    "\n",
    "- Develop a script that can extract named entities (like names of people, places, etc.) from a list of messages using rule-based patterns.\n",
    "- Design a simple rule-based system that can classify text messages as \"spam\" or \"not spam\" based on specific keywords."
   ]
  },
  {
   "cell_type": "code",
   "execution_count": null,
   "id": "875af3b6-108e-40a9-9e3d-90c84e675e21",
   "metadata": {},
   "outputs": [],
   "source": [
    "# Sample data: List of text messages\n",
    "messages = [\n",
    "    \"Win a FREE iPhone! Click here to claim now!\",\n",
    "    \"Dear John, your subscription to 'Tech Today' has been confirmed.\",\n",
    "    \"You have won $1000 in the Global Lottery! Send your bank details to claim.\",\n",
    "    \"Reminder: Meeting with the marketing team at 10 AM in the Tesla Conference Room.\",\n",
    "    \"This is your final reminder to pay your Verizon phone bill.\",\n",
    "    \"Congratulations, Sarah! You've been selected for a chance to win a Bahamas cruise!\",\n",
    "    \"Exclusive offer for Amazon Prime members: Unlock 50% discount on your next purchase.\",\n",
    "    \"Your FedEx package has been shipped and is on its way to 123 Elm Street!\",\n",
    "    \"Reminder: Your dental appointment with Dr. Anderson is scheduled for tomorrow at 3 PM.\",\n",
    "    \"Claim your FREE trial of Adobe Photoshop today.\",\n",
    "    \"Urgent: Your Chase Bank account has been compromised! Change your password immediately.\",\n",
    "    \"Join Microsoft's webinar on the future of artificial intelligence.\",\n",
    "    \"Get rid of debt now! Consolidate your loans with Goldman Sachs into one low monthly payment.\",\n",
    "    \"Happy Birthday, Emily! Enjoy a complimentary dinner at Olive Garden.\",\n",
    "    \"Your Netflix membership renewal is due. Please update your billing information.\",\n",
    "    \"You're invited to Google's exclusive networking event this Friday in San Francisco.\",\n",
    "    \"Act now to extend your Toyota car warranty at a special discounted rate.\",\n",
    "    \"Final notice: Your eBay account will be deactivated unless action is taken.\",\n",
    "    \"Congratulations, Dave! You've earned a reward from Starbucks! Click to redeem your points.\",\n",
    "    \"Survey invitation from Airbnb: Share your feedback and receive a $10 gift card.\"\n",
    "]"
   ]
  },
  {
   "cell_type": "markdown",
   "id": "fb96d01d-fdaa-43d4-a8d5-0d50d5e11d53",
   "metadata": {},
   "source": [
    "## Exercise 5: Corpus Analysis\n",
    "**Objective:** Gain experience in working with and analyzing text corpora.\n",
    "\n",
    "- Download a text corpus in Slovene (ccKres): https://www.clarin.si/repository/xmlui/handle/11356/1034.\n",
    "- Text format of the corpus contains a lot of documents. Sample and store 1000 of them.\n",
    "- Analyze the corpus for collocations (frequent word pairs or triplets) and report your findings. NOTE: Since the dataset is relatively large, you can use .split() method instead of classla. "
   ]
  }
 ],
 "metadata": {
  "kernelspec": {
   "display_name": "nlp",
   "language": "python",
   "name": "nlp"
  },
  "language_info": {
   "codemirror_mode": {
    "name": "ipython",
    "version": 3
   },
   "file_extension": ".py",
   "mimetype": "text/x-python",
   "name": "python",
   "nbconvert_exporter": "python",
   "pygments_lexer": "ipython3",
   "version": "3.10.13"
  }
 },
 "nbformat": 4,
 "nbformat_minor": 5
}
