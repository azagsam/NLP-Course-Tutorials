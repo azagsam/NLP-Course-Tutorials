{
 "cells": [
  {
   "cell_type": "markdown",
   "metadata": {},
   "source": [
    "# SLING usage tutorial\n",
    "\n",
    "<sup>This notebook is a part of Natural Language Processing class at the University of Ljubljana, Faculty for computer and information science. Please contact [slavko.zitnik@fri.uni-lj.si](mailto:slavko.zitnik@fri.uni-lj.si) for any comments.</sub>\n",
    "\n",
    "In this document we show an example how to use a SLING HPC to run tasks that need GPU  devices. To get access, **send your e-mail address to Slavko Žitnik** until the end of the week!\n",
    "\n",
    "You can get more information on SLING at their [official web site](https://www.sling.si). Useful documentation and login instructions are available here - [https://doc.sling.si/navodila/clusters/](https://doc.sling.si/navodila/clusters/). By default, [SLURM](https://slurm.schedmd.com) is used to submit and manage jobs.\n",
    "\n",
    "FRI users will have access to NSC where 4 GPUs (NVIDIA Tesla K40) are always reserved. Otherwise, cluster consists of the following main computer centers:\n",
    "\n",
    "* nsc-login.ijs.si (5x NVIDIA Ampere, 16x NVIDIA K40c)\n",
    "* trdina-login.fis.unm.si (4x NVIDIA v100)\n",
    "* rmaister.hpc-rivr.um.si (24x NVIDIA v100)\n",
    "* Arnes (hpc-login.arnes.si, ARC-only access) (48x NVIDIA v100)\n",
    "* Vega (login.vega.izum.si, currently test users only) (240x NVIDIA Ampere)\n",
    "\n",
    "## Steps to use a GPU using Singularity"
   ]
  },
  {
   "cell_type": "markdown",
   "metadata": {},
   "source": [
    "### Step 1 (get access)\n",
    "\n",
    "First you need to retrieve username and password. Then use those credentials and login to [https://fido.sling.si/](https://fido.sling.si/) to enter your public SSH key (similar to GitHub access).\n",
    "\n",
    "Probably you need to copy contents of `~/.ssh/id_rsa.pub` file and add it to Fido web site. This will enable SSH access to the login node.\n",
    "\n",
    "![](fido-ssh.png)"
   ]
  },
  {
   "cell_type": "markdown",
   "metadata": {},
   "source": [
    "### Step 2 (login and prepare environment)\n",
    "\n",
    "Login via ssh and then build a Singularity container. \n",
    "\n",
    "You can start from prebuilt Docker images (e.g. [tensorflow](https://hub.docker.com/r/tensorflow/tensorflow) or [pytorch](https://hub.docker.com/r/pytorch/pytorch)) and build a Singularity image.\n",
    "\n",
    "```bash\n",
    "mkdir containers\n",
    "singularity build ./containers/container-tf-2.4.1.sif docker://tensorflow/tensorflow:2.4.1-gpu\n",
    "```\n",
    "\n",
    "Install additional libraries that your source might need.\n",
    "\n",
    "```bash\n",
    "singularity exec ./containers/container-tf-2.4.1.sif pip install tensorflow-gpu==2.4.1 keras==2.4.3 pandas==1.1.5 numpy==1.19.2\n",
    "\n",
    "```\n",
    "\n",
    "Copy your code from local machine (e.g. using SCP) or clone a source code repository.\n",
    "\n",
    "```bash\n",
    "git clone https://github.com/szitnik/NLP-Course-Tutorials.git\n",
    "```"
   ]
  },
  {
   "cell_type": "markdown",
   "metadata": {},
   "source": [
    "### Step 3 (prepare and submit a job)\n",
    "\n",
    "Create a separate folder for your log files.\n",
    "\n",
    "```bash\n",
    "mkdir logs\n",
    "```\n",
    "\n",
    "Create a job script (e.g. `nano run-slurm.sh`).\n",
    "\n",
    "```bash\n",
    "#!/bin/bash\n",
    "#SBATCH --nodes=1\n",
    "#SBATCH --ntasks=1\n",
    "#SBATCH --cpus-per-task=4\n",
    "#SBATCH --gres=gpu:1 #--gpus=1\n",
    "#SBATCH --time=00:30:00\n",
    "#SBATCH --output=logs/sling-nlp-showcase-%J.out\n",
    "#SBATCH --error=logs/sling-nlp-showcase-%J.err\n",
    "#SBATCH --job-name=\"SLING NLP showcase\"\n",
    "\n",
    "srun singularity exec --nv ./containers/container-tf-2.4.1.sif python \\\n",
    "    \"NLP-Course-Tutorials/08 - Neural networks examples and hardware/SLING Example/IMDB_Multiple_NN_Example.py\"\n",
    "```\n",
    "\n",
    "Submit job.\n",
    "\n",
    "```bash\n",
    "sbatch run-slurm.sh\n",
    "```"
   ]
  },
  {
   "cell_type": "markdown",
   "metadata": {},
   "source": [
    "### Step 4 (check status of a job, logs, results)\n",
    "\n",
    "By default your current working directory is mapped directly to a container, so you can read/write files based on relative path from directory where job was run (otherwise you can use bind commands when running Singularity.)\n",
    "\n",
    "Some useful commands:\n",
    "\n",
    "```bash\n",
    "# Get current global queue\n",
    "squeue\n",
    "\n",
    "# Get the queue of your jobs only\n",
    "squeue -u szitnik\n",
    "\n",
    "# Get an (rough) estimation of starting your job\n",
    "squeue -j <jobid> --start\n",
    "\n",
    "# Get basic information of a waiting job\n",
    "sacct -j <jobid>\n",
    "\n",
    "# Get some useful statistics of your running job (CPU, MEM, ...)\n",
    "sstat -j <jobid>\n",
    "\n",
    "# Cancel a job\n",
    "scancel <jobid>\n",
    "```"
   ]
  }
 ],
 "metadata": {
  "kernelspec": {
   "display_name": "Python [conda env:nlp-course-fri]",
   "language": "python",
   "name": "conda-env-nlp-course-fri-py"
  },
  "language_info": {
   "codemirror_mode": {
    "name": "ipython",
    "version": 3
   },
   "file_extension": ".py",
   "mimetype": "text/x-python",
   "name": "python",
   "nbconvert_exporter": "python",
   "pygments_lexer": "ipython3",
   "version": "3.6.10"
  }
 },
 "nbformat": 4,
 "nbformat_minor": 5
}
