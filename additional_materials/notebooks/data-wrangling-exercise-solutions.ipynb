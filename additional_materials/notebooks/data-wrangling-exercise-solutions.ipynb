{
 "cells": [
  {
   "cell_type": "markdown",
   "id": "3496f588-efc2-436d-b122-314e3bde6350",
   "metadata": {},
   "source": [
    "# Data Wrangling"
   ]
  },
  {
   "cell_type": "markdown",
   "id": "f49ef11a-f6dd-444a-a9a5-b56033d5392c",
   "metadata": {},
   "source": [
    "Working with text files\n",
    "\n",
    "- Download WSC dataset: https://drive.google.com/file/d/1pAFXnjHyeRm9TGV9mknM25f7AvS8UZ4-/view?usp=share_link\n",
    "- Read files and store them into one dataframe (preserve train, test, and val split info)\n",
    "- Count label values: What is the distribution of the target variable?\n",
    "- Create a new variable that stores text without tags\n",
    "- Create new variables that store the number of characters, sentences and words of every sample\n",
    "- Create new variables that store information about tagged words: their position in the text (index). Assume that empty space is a delimiter. \n",
    "- Save to disk 3 files in json lines format (train.jsonl, val.jsonl, test.jsonl) "
   ]
  },
  {
   "cell_type": "code",
   "execution_count": 1,
   "id": "initial_id",
   "metadata": {
    "ExecuteTime": {
     "end_time": "2024-03-03T11:53:16.484656Z",
     "start_time": "2024-03-03T11:53:16.439409Z"
    },
    "editable": true,
    "slideshow": {
     "slide_type": ""
    },
    "tags": []
   },
   "outputs": [
    {
     "data": {
      "text/html": [
       "<div>\n",
       "<style scoped>\n",
       "    .dataframe tbody tr th:only-of-type {\n",
       "        vertical-align: middle;\n",
       "    }\n",
       "\n",
       "    .dataframe tbody tr th {\n",
       "        vertical-align: top;\n",
       "    }\n",
       "\n",
       "    .dataframe thead th {\n",
       "        text-align: right;\n",
       "    }\n",
       "</style>\n",
       "<table border=\"1\" class=\"dataframe\">\n",
       "  <thead>\n",
       "    <tr style=\"text-align: right;\">\n",
       "      <th></th>\n",
       "      <th>text</th>\n",
       "      <th>label</th>\n",
       "      <th>split</th>\n",
       "    </tr>\n",
       "  </thead>\n",
       "  <tbody>\n",
       "    <tr>\n",
       "      <th>0</th>\n",
       "      <td>&lt;w1&gt; John &lt;/w1&gt; je potrkal na vrata in Susan j...</td>\n",
       "      <td>True</td>\n",
       "      <td>train</td>\n",
       "    </tr>\n",
       "    <tr>\n",
       "      <th>1</th>\n",
       "      <td>&lt;w1&gt; Bob &lt;/w1&gt; se ni razjezil na Sally, ki ga ...</td>\n",
       "      <td>False</td>\n",
       "      <td>train</td>\n",
       "    </tr>\n",
       "    <tr>\n",
       "      <th>2</th>\n",
       "      <td>&lt;w1&gt; Znanstvenici &lt;/w1&gt; preiskujeta tri vrste ...</td>\n",
       "      <td>True</td>\n",
       "      <td>train</td>\n",
       "    </tr>\n",
       "    <tr>\n",
       "      <th>3</th>\n",
       "      <td>&lt;w1&gt; Bill &lt;/w1&gt; je računalniško konzolo podal ...</td>\n",
       "      <td>True</td>\n",
       "      <td>train</td>\n",
       "    </tr>\n",
       "    <tr>\n",
       "      <th>4</th>\n",
       "      <td>&lt;w1&gt; John &lt;/w1&gt; je najel Beth, zato da bi lahk...</td>\n",
       "      <td>True</td>\n",
       "      <td>train</td>\n",
       "    </tr>\n",
       "  </tbody>\n",
       "</table>\n",
       "</div>"
      ],
      "text/plain": [
       "                                                text  label  split\n",
       "0  <w1> John </w1> je potrkal na vrata in Susan j...   True  train\n",
       "1  <w1> Bob </w1> se ni razjezil na Sally, ki ga ...  False  train\n",
       "2  <w1> Znanstvenici </w1> preiskujeta tri vrste ...   True  train\n",
       "3  <w1> Bill </w1> je računalniško konzolo podal ...   True  train\n",
       "4  <w1> John </w1> je najel Beth, zato da bi lahk...   True  train"
      ]
     },
     "execution_count": 1,
     "metadata": {},
     "output_type": "execute_result"
    }
   ],
   "source": [
    "import pandas as pd\n",
    "import os\n",
    "\n",
    "# Define a function to extract files from the ZIP and read them into a Pandas DataFrame\n",
    "def read_files_to_dataframe():\n",
    "    # Initialize lists to store data and labels\n",
    "    texts = []\n",
    "    labels = []\n",
    "    split_sets = []\n",
    "\n",
    "    # Walk through the directory and read files\n",
    "    for root, dirs, files in os.walk(\"wsc-txt\"):\n",
    "        for file in files:\n",
    "            # Read the file content\n",
    "            with open(os.path.join(root, file), 'r', encoding='utf-8-sig') as f:\n",
    "                split_set = file.split('_')[0].lower()\n",
    "                split_sets.append(split_set)\n",
    "                for line in f:\n",
    "                    if line.startswith('text:'):\n",
    "                        text = line.strip().split('text:', 1)[1]\n",
    "                        texts.append(text)\n",
    "                    if line.startswith('label'):\n",
    "                        label = line.strip().split('label:', 1)[1]\n",
    "                        labels.append(label)\n",
    "\n",
    "    # Create a DataFrame\n",
    "    df = pd.DataFrame({'text': texts, 'label': labels, 'split': split_sets})\n",
    "    \n",
    "    return df\n",
    "\n",
    "# Call the function and store the data in a DataFrame\n",
    "df = read_files_to_dataframe()\n",
    "df.head()"
   ]
  },
  {
   "cell_type": "code",
   "execution_count": 2,
   "id": "53112c5a-015d-48fc-9cd3-84e047ad003d",
   "metadata": {
    "ExecuteTime": {
     "end_time": "2024-03-03T11:51:54.538639Z",
     "start_time": "2024-03-03T11:51:54.516116Z"
    }
   },
   "outputs": [
    {
     "data": {
      "text/plain": [
       "label\n",
       "False    66\n",
       "True     58\n",
       "Name: count, dtype: int64"
      ]
     },
     "execution_count": 2,
     "metadata": {},
     "output_type": "execute_result"
    }
   ],
   "source": [
    "# Count the distribution of the target variable (label values)\n",
    "label_distribution = df['label'].value_counts()\n",
    "\n",
    "# Display the distribution\n",
    "label_distribution"
   ]
  },
  {
   "cell_type": "code",
   "execution_count": 3,
   "id": "174dba75eb656e52",
   "metadata": {
    "ExecuteTime": {
     "end_time": "2024-03-03T12:26:35.347136Z",
     "start_time": "2024-03-03T12:26:35.326069Z"
    },
    "collapsed": false,
    "jupyter": {
     "outputs_hidden": false
    }
   },
   "outputs": [
    {
     "data": {
      "text/html": [
       "<div>\n",
       "<style scoped>\n",
       "    .dataframe tbody tr th:only-of-type {\n",
       "        vertical-align: middle;\n",
       "    }\n",
       "\n",
       "    .dataframe tbody tr th {\n",
       "        vertical-align: top;\n",
       "    }\n",
       "\n",
       "    .dataframe thead th {\n",
       "        text-align: right;\n",
       "    }\n",
       "</style>\n",
       "<table border=\"1\" class=\"dataframe\">\n",
       "  <thead>\n",
       "    <tr style=\"text-align: right;\">\n",
       "      <th></th>\n",
       "      <th>text</th>\n",
       "      <th>label</th>\n",
       "      <th>split</th>\n",
       "      <th>clean_text</th>\n",
       "    </tr>\n",
       "  </thead>\n",
       "  <tbody>\n",
       "    <tr>\n",
       "      <th>0</th>\n",
       "      <td>&lt;w1&gt; John &lt;/w1&gt; je potrkal na vrata in Susan j...</td>\n",
       "      <td>True</td>\n",
       "      <td>train</td>\n",
       "      <td>John je potrkal na vrata in Susan jih je odprl...</td>\n",
       "    </tr>\n",
       "    <tr>\n",
       "      <th>1</th>\n",
       "      <td>&lt;w1&gt; Bob &lt;/w1&gt; se ni razjezil na Sally, ki ga ...</td>\n",
       "      <td>False</td>\n",
       "      <td>train</td>\n",
       "      <td>Bob se ni razjezil na Sally, ki ga je prekinil...</td>\n",
       "    </tr>\n",
       "    <tr>\n",
       "      <th>2</th>\n",
       "      <td>&lt;w1&gt; Znanstvenici &lt;/w1&gt; preiskujeta tri vrste ...</td>\n",
       "      <td>True</td>\n",
       "      <td>train</td>\n",
       "      <td>Znanstvenici preiskujeta tri vrste rib, ki so ...</td>\n",
       "    </tr>\n",
       "    <tr>\n",
       "      <th>3</th>\n",
       "      <td>&lt;w1&gt; Bill &lt;/w1&gt; je računalniško konzolo podal ...</td>\n",
       "      <td>True</td>\n",
       "      <td>train</td>\n",
       "      <td>Bill je računalniško konzolo podal Jane, ker j...</td>\n",
       "    </tr>\n",
       "    <tr>\n",
       "      <th>4</th>\n",
       "      <td>&lt;w1&gt; John &lt;/w1&gt; je najel Beth, zato da bi lahk...</td>\n",
       "      <td>True</td>\n",
       "      <td>train</td>\n",
       "      <td>John je najel Beth, zato da bi lahko skrbela z...</td>\n",
       "    </tr>\n",
       "  </tbody>\n",
       "</table>\n",
       "</div>"
      ],
      "text/plain": [
       "                                                text  label  split  \\\n",
       "0  <w1> John </w1> je potrkal na vrata in Susan j...   True  train   \n",
       "1  <w1> Bob </w1> se ni razjezil na Sally, ki ga ...  False  train   \n",
       "2  <w1> Znanstvenici </w1> preiskujeta tri vrste ...   True  train   \n",
       "3  <w1> Bill </w1> je računalniško konzolo podal ...   True  train   \n",
       "4  <w1> John </w1> je najel Beth, zato da bi lahk...   True  train   \n",
       "\n",
       "                                          clean_text  \n",
       "0  John je potrkal na vrata in Susan jih je odprl...  \n",
       "1  Bob se ni razjezil na Sally, ki ga je prekinil...  \n",
       "2  Znanstvenici preiskujeta tri vrste rib, ki so ...  \n",
       "3  Bill je računalniško konzolo podal Jane, ker j...  \n",
       "4  John je najel Beth, zato da bi lahko skrbela z...  "
      ]
     },
     "execution_count": 3,
     "metadata": {},
     "output_type": "execute_result"
    }
   ],
   "source": [
    "import re\n",
    "\n",
    "def remove_tags_and_clean_whitespace(text):\n",
    "    # Remove tags but keep the text between them\n",
    "    text_without_tags = re.sub(r'<\\/?w\\d+>', '', text)\n",
    "    # Replace multiple spaces with a single space and strip leading/trailing whitespace\n",
    "    clean_text = re.sub(r'\\s+', ' ', text_without_tags).strip()\n",
    "    return clean_text\n",
    "\n",
    "# Assuming `df` is your DataFrame and it has a 'text' column\n",
    "df['clean_text'] = df['text'].apply(remove_tags_and_clean_whitespace)\n",
    "\n",
    "df.head()  # Display the first few rows to verify the updated 'clean_text' variable"
   ]
  },
  {
   "cell_type": "code",
   "execution_count": 4,
   "id": "0e608b31-8f4d-40d7-be62-c4d06538ce55",
   "metadata": {
    "ExecuteTime": {
     "end_time": "2024-03-03T12:15:00.698834Z",
     "start_time": "2024-03-03T12:15:00.682697Z"
    }
   },
   "outputs": [
    {
     "name": "stdout",
     "output_type": "stream",
     "text": [
      "[{'index': 0, 'word': 'John', 'tag': '<w1>'}, {'index': 10, 'word': 'Povabil jo je', 'tag': '<w2>'}]\n"
     ]
    }
   ],
   "source": [
    "import re\n",
    "\n",
    "def extract_tagged_words_with_details(text):\n",
    "    # Split the text into words and tags, keeping the tags intact\n",
    "    words_and_tags = re.findall(r'<w\\d+>.*?<\\/w\\d+>|[\\w\\'-]+', text)\n",
    "\n",
    "    # Initialize an empty list to store information about tagged words\n",
    "    tagged_words_info = []\n",
    "\n",
    "    # Iterate through the sequence, identifying tagged words and their details\n",
    "    for index, word_or_tag in enumerate(words_and_tags, start=0):  # Starting index from 1 for readability\n",
    "        # Check if the current element is a tagged word\n",
    "        tag_match = re.match(r'(<w\\d+>)(.*?)(<\\/w\\d+>)', word_or_tag)\n",
    "        if tag_match:\n",
    "            # Extract the tag, the word, and the closing tag\n",
    "            opening_tag, word, closing_tag = tag_match.groups()\n",
    "            # Store the index, the clean word, and the tag information\n",
    "            tagged_words_info.append({\n",
    "                'index': index,\n",
    "                'word': word.strip(),\n",
    "                'tag': opening_tag \n",
    "            })\n",
    "\n",
    "    return tagged_words_info\n",
    "\n",
    "# Example usage\n",
    "text = \"<w1> John </w1> je potrkal na vrata in Susan jih je odprla. <w2> Povabil jo je </w2> ven.\"\n",
    "tagged_words_info = extract_tagged_words_with_details(text)\n",
    "\n",
    "print(tagged_words_info)"
   ]
  },
  {
   "cell_type": "code",
   "execution_count": 5,
   "id": "7f81a01a9c3d532a",
   "metadata": {
    "ExecuteTime": {
     "end_time": "2024-03-03T12:17:20.163476Z",
     "start_time": "2024-03-03T12:17:20.131874Z"
    },
    "collapsed": false,
    "jupyter": {
     "outputs_hidden": false
    }
   },
   "outputs": [],
   "source": [
    "df['tagged_words_details'] = df['text'].apply(extract_tagged_words_with_details)"
   ]
  },
  {
   "cell_type": "code",
   "execution_count": 6,
   "id": "dbfa6d576c336110",
   "metadata": {
    "ExecuteTime": {
     "end_time": "2024-03-03T12:27:16.476912Z",
     "start_time": "2024-03-03T12:27:16.420887Z"
    },
    "collapsed": false,
    "jupyter": {
     "outputs_hidden": false
    }
   },
   "outputs": [
    {
     "data": {
      "text/html": [
       "<div>\n",
       "<style scoped>\n",
       "    .dataframe tbody tr th:only-of-type {\n",
       "        vertical-align: middle;\n",
       "    }\n",
       "\n",
       "    .dataframe tbody tr th {\n",
       "        vertical-align: top;\n",
       "    }\n",
       "\n",
       "    .dataframe thead th {\n",
       "        text-align: right;\n",
       "    }\n",
       "</style>\n",
       "<table border=\"1\" class=\"dataframe\">\n",
       "  <thead>\n",
       "    <tr style=\"text-align: right;\">\n",
       "      <th></th>\n",
       "      <th>text</th>\n",
       "      <th>label</th>\n",
       "      <th>split</th>\n",
       "      <th>clean_text</th>\n",
       "      <th>tagged_words_details</th>\n",
       "      <th>char_count</th>\n",
       "      <th>word_count</th>\n",
       "      <th>sentence_count</th>\n",
       "    </tr>\n",
       "  </thead>\n",
       "  <tbody>\n",
       "    <tr>\n",
       "      <th>0</th>\n",
       "      <td>&lt;w1&gt; John &lt;/w1&gt; je potrkal na vrata in Susan j...</td>\n",
       "      <td>True</td>\n",
       "      <td>train</td>\n",
       "      <td>John je potrkal na vrata in Susan jih je odprl...</td>\n",
       "      <td>[{'index': 0, 'word': 'John', 'tag': '&lt;w1&gt;'}, ...</td>\n",
       "      <td>67</td>\n",
       "      <td>16</td>\n",
       "      <td>2</td>\n",
       "    </tr>\n",
       "    <tr>\n",
       "      <th>1</th>\n",
       "      <td>&lt;w1&gt; Bob &lt;/w1&gt; se ni razjezil na Sally, ki ga ...</td>\n",
       "      <td>False</td>\n",
       "      <td>train</td>\n",
       "      <td>Bob se ni razjezil na Sally, ki ga je prekinil...</td>\n",
       "      <td>[{'index': 0, 'word': 'Bob', 'tag': '&lt;w1&gt;'}, {...</td>\n",
       "      <td>90</td>\n",
       "      <td>21</td>\n",
       "      <td>1</td>\n",
       "    </tr>\n",
       "    <tr>\n",
       "      <th>2</th>\n",
       "      <td>&lt;w1&gt; Znanstvenici &lt;/w1&gt; preiskujeta tri vrste ...</td>\n",
       "      <td>True</td>\n",
       "      <td>train</td>\n",
       "      <td>Znanstvenici preiskujeta tri vrste rib, ki so ...</td>\n",
       "      <td>[{'index': 0, 'word': 'Znanstvenici', 'tag': '...</td>\n",
       "      <td>115</td>\n",
       "      <td>21</td>\n",
       "      <td>2</td>\n",
       "    </tr>\n",
       "    <tr>\n",
       "      <th>3</th>\n",
       "      <td>&lt;w1&gt; Bill &lt;/w1&gt; je računalniško konzolo podal ...</td>\n",
       "      <td>True</td>\n",
       "      <td>train</td>\n",
       "      <td>Bill je računalniško konzolo podal Jane, ker j...</td>\n",
       "      <td>[{'index': 0, 'word': 'Bill', 'tag': '&lt;w1&gt;'}, ...</td>\n",
       "      <td>73</td>\n",
       "      <td>14</td>\n",
       "      <td>1</td>\n",
       "    </tr>\n",
       "    <tr>\n",
       "      <th>4</th>\n",
       "      <td>&lt;w1&gt; John &lt;/w1&gt; je najel Beth, zato da bi lahk...</td>\n",
       "      <td>True</td>\n",
       "      <td>train</td>\n",
       "      <td>John je najel Beth, zato da bi lahko skrbela z...</td>\n",
       "      <td>[{'index': 0, 'word': 'John', 'tag': '&lt;w1&gt;'}, ...</td>\n",
       "      <td>51</td>\n",
       "      <td>12</td>\n",
       "      <td>1</td>\n",
       "    </tr>\n",
       "  </tbody>\n",
       "</table>\n",
       "</div>"
      ],
      "text/plain": [
       "                                                text  label  split  \\\n",
       "0  <w1> John </w1> je potrkal na vrata in Susan j...   True  train   \n",
       "1  <w1> Bob </w1> se ni razjezil na Sally, ki ga ...  False  train   \n",
       "2  <w1> Znanstvenici </w1> preiskujeta tri vrste ...   True  train   \n",
       "3  <w1> Bill </w1> je računalniško konzolo podal ...   True  train   \n",
       "4  <w1> John </w1> je najel Beth, zato da bi lahk...   True  train   \n",
       "\n",
       "                                          clean_text  \\\n",
       "0  John je potrkal na vrata in Susan jih je odprl...   \n",
       "1  Bob se ni razjezil na Sally, ki ga je prekinil...   \n",
       "2  Znanstvenici preiskujeta tri vrste rib, ki so ...   \n",
       "3  Bill je računalniško konzolo podal Jane, ker j...   \n",
       "4  John je najel Beth, zato da bi lahko skrbela z...   \n",
       "\n",
       "                                tagged_words_details  char_count  word_count  \\\n",
       "0  [{'index': 0, 'word': 'John', 'tag': '<w1>'}, ...          67          16   \n",
       "1  [{'index': 0, 'word': 'Bob', 'tag': '<w1>'}, {...          90          21   \n",
       "2  [{'index': 0, 'word': 'Znanstvenici', 'tag': '...         115          21   \n",
       "3  [{'index': 0, 'word': 'Bill', 'tag': '<w1>'}, ...          73          14   \n",
       "4  [{'index': 0, 'word': 'John', 'tag': '<w1>'}, ...          51          12   \n",
       "\n",
       "   sentence_count  \n",
       "0               2  \n",
       "1               1  \n",
       "2               2  \n",
       "3               1  \n",
       "4               1  "
      ]
     },
     "execution_count": 6,
     "metadata": {},
     "output_type": "execute_result"
    }
   ],
   "source": [
    "import re\n",
    "from nltk.tokenize import sent_tokenize, word_tokenize\n",
    "\n",
    "def analyze_text(text):\n",
    "    char_count = len(text)\n",
    "    word_count = len(word_tokenize(text, language='slovene'))\n",
    "    sentence_count = len(sent_tokenize(text, language='slovene'))\n",
    "    \n",
    "    return char_count, word_count, sentence_count\n",
    "\n",
    "# Assuming `df` is your DataFrame and it has a 'clean_text' column\n",
    "df['char_count'], df['word_count'], df['sentence_count'] = zip(*df['clean_text'].map(analyze_text))\n",
    "\n",
    "df.head()  # Display the first few rows to verify the new variables"
   ]
  },
  {
   "cell_type": "code",
   "execution_count": 7,
   "id": "206ad129f9cd2cdb",
   "metadata": {
    "ExecuteTime": {
     "end_time": "2024-03-03T12:29:10.010674Z",
     "start_time": "2024-03-03T12:29:09.993618Z"
    },
    "collapsed": false,
    "jupyter": {
     "outputs_hidden": false
    }
   },
   "outputs": [
    {
     "name": "stdout",
     "output_type": "stream",
     "text": [
      "Saved train set to train.jsonl\n",
      "Saved test set to test.jsonl\n",
      "Saved val set to val.jsonl\n"
     ]
    }
   ],
   "source": [
    "# Filter the DataFrame based on the 'split' values and save each subset to a .jsonl file\n",
    "for split_value in df['split'].unique():\n",
    "    subset_df = df[df['split'] == split_value]\n",
    "    \n",
    "    # Define the file path based on the split value\n",
    "    file_path = f'{split_value}.jsonl'\n",
    "    \n",
    "    # Save the subset DataFrame to a JSON Lines file\n",
    "    subset_df.to_json(file_path, orient='records', lines=True, force_ascii=False)\n",
    "\n",
    "    print(f'Saved {split_value} set to {file_path}')"
   ]
  }
 ],
 "metadata": {
  "kernelspec": {
   "display_name": "Python 3 (ipykernel)",
   "language": "python",
   "name": "python3"
  },
  "language_info": {
   "codemirror_mode": {
    "name": "ipython",
    "version": 3
   },
   "file_extension": ".py",
   "mimetype": "text/x-python",
   "name": "python",
   "nbconvert_exporter": "python",
   "pygments_lexer": "ipython3",
   "version": "3.10.13"
  }
 },
 "nbformat": 4,
 "nbformat_minor": 5
}
